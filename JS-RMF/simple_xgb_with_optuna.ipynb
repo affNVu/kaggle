{
 "cells": [
  {
   "cell_type": "code",
   "execution_count": 1,
   "metadata": {},
   "outputs": [],
   "source": [
    "import polars as pl\n",
    "import numpy as np\n",
    "from sklearn.metrics import mean_squared_error, r2_score\n",
    "import xgboost as xgb\n",
    "import optuna\n",
    "from optuna.samplers import TPESampler\n",
    "\n",
    "\n",
    "from sklearn.model_selection import train_test_split\n",
    "from functools import partial\n"
   ]
  },
  {
   "cell_type": "code",
   "execution_count": 2,
   "metadata": {},
   "outputs": [],
   "source": [
    "def reduce_mem_usage(df):\n",
    "    \"\"\" iterate through all the columns of a dataframe and modify the data type\n",
    "        to reduce memory usage.        \n",
    "    \"\"\"\n",
    "    start_mem = df.memory_usage().sum() / 1024**2\n",
    "    print('Memory usage of dataframe is {:.2f} MB'.format(start_mem))\n",
    "    \n",
    "    for col in df.columns:\n",
    "        col_type = df[col].dtype\n",
    "        \n",
    "        if col_type != object:\n",
    "            c_min = df[col].min()\n",
    "            c_max = df[col].max()\n",
    "            if str(col_type)[:3] == 'int':\n",
    "                if c_min > np.iinfo(np.int8).min and c_max < np.iinfo(np.int8).max:\n",
    "                    df[col] = df[col].astype(np.int8)\n",
    "                elif c_min > np.iinfo(np.int16).min and c_max < np.iinfo(np.int16).max:\n",
    "                    df[col] = df[col].astype(np.int16)\n",
    "                elif c_min > np.iinfo(np.int32).min and c_max < np.iinfo(np.int32).max:\n",
    "                    df[col] = df[col].astype(np.int32)\n",
    "                elif c_min > np.iinfo(np.int64).min and c_max < np.iinfo(np.int64).max:\n",
    "                    df[col] = df[col].astype(np.int64)  \n",
    "            else:\n",
    "                if c_min > np.finfo(np.float16).min and c_max < np.finfo(np.float16).max:\n",
    "                    df[col] = df[col].astype(np.float16)\n",
    "                elif c_min > np.finfo(np.float32).min and c_max < np.finfo(np.float32).max:\n",
    "                    df[col] = df[col].astype(np.float32)\n",
    "                else:\n",
    "                    df[col] = df[col].astype(np.float64)\n",
    "        else:\n",
    "            df[col] = df[col].astype('category')\n",
    "\n",
    "    end_mem = df.memory_usage().sum() / 1024**2\n",
    "    print('Memory usage after optimization is: {:.2f} MB'.format(end_mem))\n",
    "    print('Decreased by {:.1f}%'.format(100 * (start_mem - end_mem) / start_mem))\n",
    "    \n",
    "    return df\n",
    "    \n",
    "def objective(trial, data, target):\n",
    "    train_x, valid_x, train_y, valid_y = train_test_split(data, target, test_size=0.25)\n",
    "    dtrain = xgb.DMatrix(train_x, label=train_y)\n",
    "    dvalid = xgb.DMatrix(valid_x, label=valid_y)\n",
    "\n",
    "    param = {\n",
    "        \"verbosity\": 0,\n",
    "        \"objective\": \"reg:squarederror\",\n",
    "        # use exact for small dataset.\n",
    "        \"tree_method\": \"exact\",\n",
    "        # defines booster, gblinear for linear functions.\n",
    "        \"booster\": trial.suggest_categorical(\"booster\", [\"gbtree\", \"gblinear\", \"dart\"]),\n",
    "        # L2 regularization weight.\n",
    "        \"lambda\": trial.suggest_float(\"lambda\", 1e-8, 1.0, log=True),\n",
    "        # L1 regularization weight.\n",
    "        \"alpha\": trial.suggest_float(\"alpha\", 1e-8, 1.0, log=True),\n",
    "        # sampling ratio for training data.\n",
    "        \"subsample\": trial.suggest_float(\"subsample\", 0.2, 1.0),\n",
    "        # sampling according to each tree.\n",
    "        \"colsample_bytree\": trial.suggest_float(\"colsample_bytree\", 0.2, 1.0),\n",
    "    }\n",
    "\n",
    "    if param[\"booster\"] in [\"gbtree\", \"dart\"]:\n",
    "        # maximum depth of the tree, signifies complexity of the tree.\n",
    "        param[\"max_depth\"] = trial.suggest_int(\"max_depth\", 3, 9, step=2)\n",
    "        # minimum child weight, larger the term more conservative the tree.\n",
    "        param[\"min_child_weight\"] = trial.suggest_int(\"min_child_weight\", 2, 10)\n",
    "        param[\"eta\"] = trial.suggest_float(\"eta\", 1e-8, 1.0, log=True)\n",
    "        # defines how selective algorithm is.\n",
    "        param[\"gamma\"] = trial.suggest_float(\"gamma\", 1e-8, 1.0, log=True)\n",
    "        param[\"grow_policy\"] = trial.suggest_categorical(\"grow_policy\", [\"depthwise\", \"lossguide\"])\n",
    "\n",
    "    if param[\"booster\"] == \"dart\":\n",
    "        param[\"sample_type\"] = trial.suggest_categorical(\"sample_type\", [\"uniform\", \"weighted\"])\n",
    "        param[\"normalize_type\"] = trial.suggest_categorical(\"normalize_type\", [\"tree\", \"forest\"])\n",
    "        param[\"rate_drop\"] = trial.suggest_float(\"rate_drop\", 1e-8, 1.0, log=True)\n",
    "        param[\"skip_drop\"] = trial.suggest_float(\"skip_drop\", 1e-8, 1.0, log=True)\n",
    "\n",
    "    bst = xgb.train(param, dtrain)\n",
    "    preds = bst.predict(dvalid)\n",
    "    pred_labels = np.rint(preds)\n",
    "    accuracy = mean_squared_error(valid_y, pred_labels)\n",
    "    return accuracy"
   ]
  },
  {
   "cell_type": "code",
   "execution_count": 3,
   "metadata": {},
   "outputs": [],
   "source": [
    "# data handling\n",
    "input_paths = 'inputs/train.parquet/*/*.parquet'\n",
    "scan_df = pl.scan_parquet(input_paths)\n",
    "\n",
    "df = scan_df.head(int(1e5)).collect()"
   ]
  },
  {
   "cell_type": "code",
   "execution_count": 4,
   "metadata": {},
   "outputs": [
    {
     "name": "stdout",
     "output_type": "stream",
     "text": [
      "(100000, 79) (100000,)\n"
     ]
    }
   ],
   "source": [
    "#\n",
    "columns = df.columns\n",
    "features_cols = [x for x in columns if 'feature' in x]\n",
    "responder_cols = [x for x in columns if 'responder' in x]\n",
    "target_col = 'responder_6'\n",
    "\n",
    "#\n",
    "X = df[features_cols]\n",
    "y = df[target_col]\n",
    "print(X.shape, y.shape)"
   ]
  },
  {
   "cell_type": "code",
   "execution_count": 5,
   "metadata": {},
   "outputs": [],
   "source": [
    "# _objective = partial(objective, data=X, target=y)\n",
    "# # hyper tune\n",
    "# study = optuna.create_study(direction=\"minimize\", sampler=TPESampler())\n",
    "# study.optimize(_objective, n_trials=100, timeout=600)\n",
    "\n",
    "# print(\"Number of finished trials: \", len(study.trials))\n",
    "# print(\"Best trial:\")\n",
    "# trial = study.best_trial\n",
    "\n",
    "# print(\"  Value: {}\".format(trial.value))\n",
    "# print(\"  Params: \")\n",
    "# for key, value in trial.params.items():\n",
    "#     print(\"    {}: {}\".format(key, value))\n",
    "\n",
    "# params = {\n",
    "#     \"verbosity\": 2,\n",
    "#     \"objective\": \"reg:squarederror\",\n",
    "#     # use exact for small dataset.\n",
    "#     \"tree_method\": \"hist\",\n",
    "#     **trial.params,\n",
    "# }\n",
    "# params\n"
   ]
  },
  {
   "cell_type": "code",
   "execution_count": 6,
   "metadata": {},
   "outputs": [],
   "source": [
    "params = {'verbosity': 3,\n",
    " 'objective': 'reg:squarederror',\n",
    " 'tree_method': 'hist',\n",
    " 'early_stopping_rounds': 5,\n",
    " 'booster': 'dart',\n",
    " 'lambda': 1.3642360825668772e-06,\n",
    " 'alpha': 0.05061696974935902,\n",
    " 'subsample': 0.949976951187838,\n",
    " 'colsample_bytree': 0.7390489200118765,\n",
    " 'max_depth': 9,\n",
    " 'min_child_weight': 8,\n",
    " 'eta': 0.663661345919149,\n",
    " 'gamma': 0.0003618456071895134,\n",
    " 'grow_policy': 'lossguide',\n",
    " 'sample_type': 'uniform',\n",
    " 'normalize_type': 'tree',\n",
    " 'rate_drop': 0.00026112632903904653,\n",
    " 'skip_drop': 0.0043081489165863246}"
   ]
  },
  {
   "cell_type": "code",
   "execution_count": 7,
   "metadata": {},
   "outputs": [
    {
     "name": "stdout",
     "output_type": "stream",
     "text": [
      "Memory usage of dataframe is 13842.79 MB\n",
      "Memory usage after optimization is: 7011.28 MB\n",
      "Decreased by 49.4%\n"
     ]
    }
   ],
   "source": [
    "X = scan_df.select(features_cols).collect().to_pandas()\n",
    "X = reduce_mem_usage(X)\n",
    "X = X.to_numpy()\n",
    "# #\n"
   ]
  },
  {
   "cell_type": "code",
   "execution_count": 8,
   "metadata": {},
   "outputs": [
    {
     "name": "stdout",
     "output_type": "stream",
     "text": [
      "Memory usage of dataframe is 179.78 MB\n",
      "Memory usage after optimization is: 89.89 MB\n",
      "Decreased by 50.0%\n",
      "(47127338, 1)\n"
     ]
    }
   ],
   "source": [
    "y = scan_df.select(target_col).collect().to_pandas()\n",
    "y = reduce_mem_usage(y)\n",
    "y = y.to_numpy()\n",
    "print(y.shape)"
   ]
  },
  {
   "cell_type": "code",
   "execution_count": 9,
   "metadata": {},
   "outputs": [
    {
     "name": "stdout",
     "output_type": "stream",
     "text": [
      "(4712733, 79) (4712733, 1)\n"
     ]
    },
    {
     "data": {
      "text/plain": [
       "True"
      ]
     },
     "execution_count": 9,
     "metadata": {},
     "output_type": "execute_result"
    }
   ],
   "source": [
    "n = X.shape[0]\n",
    "n_train = int(n * 0.1)\n",
    "X_train = X[:n_train]\n",
    "y_train = y[:n_train]\n",
    "X_test = X[n_train:]\n",
    "y_test = y[n_train:]\n",
    "print(X_train.shape, y_train.shape)\n",
    "np.all(np.isfinite(X_train))\n",
    "np.all(np.isfinite(X_test))\n",
    "np.all(np.isfinite(y_train))\n",
    "np.all(np.isfinite(y_test))"
   ]
  },
  {
   "cell_type": "code",
   "execution_count": 10,
   "metadata": {},
   "outputs": [
    {
     "name": "stdout",
     "output_type": "stream",
     "text": [
      "[21:21:27] ======== Monitor (0): HostSketchContainer ========\n",
      "[21:21:27] AllReduce: 0.020193s, 1 calls @ 20193us\n",
      "\n",
      "[21:21:27] MakeCuts: 0.027011s, 1 calls @ 27011us\n",
      "\n",
      "[21:45:51] DEBUG: /Users/runner/work/xgboost/xgboost/src/gbm/gbtree.cc:130: Using tree method: 3\n",
      "[21:46:00] INFO: /Users/runner/work/xgboost/xgboost/src/gbm/gbtree.cc:918: drop 0 trees, weight = 1\n",
      "[0]\tvalidation_0-rmse:0.88910\n",
      "[21:46:54] INFO: /Users/runner/work/xgboost/xgboost/src/gbm/gbtree.cc:918: drop 0 trees, weight = 1\n",
      "[1]\tvalidation_0-rmse:0.89133\n",
      "[21:47:16] INFO: /Users/runner/work/xgboost/xgboost/src/gbm/gbtree.cc:918: drop 0 trees, weight = 1\n",
      "[2]\tvalidation_0-rmse:0.89280\n",
      "[21:47:54] INFO: /Users/runner/work/xgboost/xgboost/src/gbm/gbtree.cc:918: drop 0 trees, weight = 1\n",
      "[3]\tvalidation_0-rmse:0.89826\n",
      "[21:48:38] INFO: /Users/runner/work/xgboost/xgboost/src/gbm/gbtree.cc:918: drop 0 trees, weight = 1\n",
      "[4]\tvalidation_0-rmse:0.90197\n",
      "[21:49:28] INFO: /Users/runner/work/xgboost/xgboost/src/gbm/gbtree.cc:918: drop 0 trees, weight = 1\n",
      "[5]\tvalidation_0-rmse:0.90498\n",
      "[21:50:22] ======== Monitor (0): Learner ========\n",
      "[21:50:22] Configure: 0.050503s, 1 calls @ 50503us\n",
      "\n",
      "[21:50:22] EvalOneIter: 239.304s, 6 calls @ 239304108us\n",
      "\n",
      "[21:50:22] GetGradient: 0.173555s, 6 calls @ 173555us\n",
      "\n",
      "[21:50:22] PredictRaw: 16.0043s, 6 calls @ 16004304us\n",
      "\n",
      "[21:50:22] UpdateOneIter: 31.1541s, 6 calls @ 31154118us\n",
      "\n",
      "[21:50:22] ======== Monitor (0): GBTree ========\n",
      "[21:50:22] BoostNewTrees: 14.8319s, 6 calls @ 14831875us\n",
      "\n",
      "[21:50:22] ======== Monitor (0): HistUpdater ========\n",
      "[21:50:22] BuildHistogram: 2.94684s, 1387 calls @ 2946838us\n",
      "\n",
      "[21:50:22] EvaluateSplits: 0.366648s, 1393 calls @ 366648us\n",
      "\n",
      "[21:50:22] InitData: 0.391809s, 6 calls @ 391809us\n",
      "\n",
      "[21:50:22] InitRoot: 8.81764s, 6 calls @ 8817643us\n",
      "\n",
      "[21:50:22] LeafPartition: 1e-06s, 6 calls @ 1us\n",
      "\n",
      "[21:50:22] UpdatePosition: 2.16006s, 2527 calls @ 2160065us\n",
      "\n",
      "[21:50:22] UpdatePredictionCache: 0.090055s, 6 calls @ 90055us\n",
      "\n",
      "[21:50:22] UpdateTree: 14.7181s, 6 calls @ 14718095us\n",
      "\n"
     ]
    }
   ],
   "source": [
    "model = xgb.XGBRegressor(**params)\n",
    "model.fit(X_train, y_train, eval_set=[(X_test, y_test)])\n",
    "model.save_model('regressor.json')"
   ]
  },
  {
   "cell_type": "code",
   "execution_count": 11,
   "metadata": {},
   "outputs": [
    {
     "data": {
      "text/plain": [
       "0.0024698376655578613"
      ]
     },
     "execution_count": 11,
     "metadata": {},
     "output_type": "execute_result"
    },
    {
     "ename": "",
     "evalue": "",
     "output_type": "error",
     "traceback": [
      "\u001b[1;31mThe Kernel crashed while executing code in the current cell or a previous cell. \n",
      "\u001b[1;31mPlease review the code in the cell(s) to identify a possible cause of the failure. \n",
      "\u001b[1;31mClick <a href='https://aka.ms/vscodeJupyterKernelCrash'>here</a> for more info. \n",
      "\u001b[1;31mView Jupyter <a href='command:jupyter.viewOutput'>log</a> for further details."
     ]
    }
   ],
   "source": [
    "preds = model.predict(X_test)\n",
    "r2_score(y_true=y_test, y_pred=preds)"
   ]
  }
 ],
 "metadata": {
  "kernelspec": {
   "display_name": "autocio",
   "language": "python",
   "name": "python3"
  },
  "language_info": {
   "codemirror_mode": {
    "name": "ipython",
    "version": 3
   },
   "file_extension": ".py",
   "mimetype": "text/x-python",
   "name": "python",
   "nbconvert_exporter": "python",
   "pygments_lexer": "ipython3",
   "version": "3.11.9"
  }
 },
 "nbformat": 4,
 "nbformat_minor": 2
}
